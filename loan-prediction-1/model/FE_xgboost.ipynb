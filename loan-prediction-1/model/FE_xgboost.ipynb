{
 "cells": [
  {
   "cell_type": "code",
   "execution_count": 1,
   "metadata": {
    "collapsed": true
   },
   "outputs": [],
   "source": [
    "#loan prediction\n"
   ]
  },
  {
   "cell_type": "code",
   "execution_count": 2,
   "metadata": {
    "collapsed": true
   },
   "outputs": [],
   "source": [
    "#intial imports\n",
    "import numpy as np\n",
    "import pandas as pd\n",
    "from pandas import DataFrame, Series\n",
    "import matplotlib.pyplot as plt\n",
    "import seaborn as sns\n",
    "from scipy import stats\n",
    "%matplotlib inline"
   ]
  },
  {
   "cell_type": "code",
   "execution_count": 3,
   "metadata": {
    "collapsed": false
   },
   "outputs": [
    {
     "name": "stderr",
     "output_type": "stream",
     "text": [
      "/home/roop/anaconda2/lib/python2.7/site-packages/sklearn/cross_validation.py:44: DeprecationWarning: This module was deprecated in version 0.18 in favor of the model_selection module into which all the refactored classes and functions are moved. Also note that the interface of the new CV iterators are different from that of this module. This module will be removed in 0.20.\n",
      "  \"This module will be removed in 0.20.\", DeprecationWarning)\n"
     ]
    }
   ],
   "source": [
    "import xgboost as xgb"
   ]
  },
  {
   "cell_type": "code",
   "execution_count": 4,
   "metadata": {
    "collapsed": false
   },
   "outputs": [],
   "source": [
    "#Imports for better visualization\n",
    "from collections import defaultdict\n",
    "import json\n",
    "import scipy as sp\n",
    "from matplotlib import rcParams\n",
    "import matplotlib.cm as cm\n",
    "import matplotlib as mpl\n",
    "#colorbrewer2 Dark2 qualitative color table"
   ]
  },
  {
   "cell_type": "code",
   "execution_count": 5,
   "metadata": {
    "collapsed": false
   },
   "outputs": [],
   "source": [
    "#loading dataset\n",
    "train=pd.read_csv(\"train.csv\")"
   ]
  },
  {
   "cell_type": "code",
   "execution_count": 6,
   "metadata": {
    "collapsed": true
   },
   "outputs": [],
   "source": [
    "test=pd.read_csv(\"test.csv\")"
   ]
  },
  {
   "cell_type": "code",
   "execution_count": 7,
   "metadata": {
    "collapsed": false
   },
   "outputs": [
    {
     "data": {
      "text/plain": [
       "(87020, 26)"
      ]
     },
     "execution_count": 7,
     "metadata": {},
     "output_type": "execute_result"
    }
   ],
   "source": [
    "train.shape"
   ]
  },
  {
   "cell_type": "code",
   "execution_count": 8,
   "metadata": {
    "collapsed": false
   },
   "outputs": [
    {
     "data": {
      "text/plain": [
       "ID                        object\n",
       "Gender                    object\n",
       "City                      object\n",
       "Monthly_Income             int64\n",
       "DOB                       object\n",
       "Lead_Creation_Date        object\n",
       "Loan_Amount_Applied      float64\n",
       "Loan_Tenure_Applied      float64\n",
       "Existing_EMI             float64\n",
       "Employer_Name             object\n",
       "Salary_Account            object\n",
       "Mobile_Verified           object\n",
       "Var5                       int64\n",
       "Var1                      object\n",
       "Loan_Amount_Submitted    float64\n",
       "Loan_Tenure_Submitted    float64\n",
       "Interest_Rate            float64\n",
       "Processing_Fee           float64\n",
       "EMI_Loan_Submitted       float64\n",
       "Filled_Form               object\n",
       "Device_Type               object\n",
       "Var2                      object\n",
       "Source                    object\n",
       "Var4                       int64\n",
       "LoggedIn                   int64\n",
       "Disbursed                  int64\n",
       "dtype: object"
      ]
     },
     "execution_count": 8,
     "metadata": {},
     "output_type": "execute_result"
    }
   ],
   "source": [
    "train.dtypes"
   ]
  },
  {
   "cell_type": "code",
   "execution_count": 8,
   "metadata": {
    "collapsed": false
   },
   "outputs": [
    {
     "data": {
      "text/plain": [
       "ID                       False\n",
       "Gender                   False\n",
       "City                      True\n",
       "Monthly_Income           False\n",
       "DOB                      False\n",
       "Lead_Creation_Date       False\n",
       "Loan_Amount_Applied       True\n",
       "Loan_Tenure_Applied       True\n",
       "Existing_EMI              True\n",
       "Employer_Name             True\n",
       "Salary_Account            True\n",
       "Mobile_Verified          False\n",
       "Var5                     False\n",
       "Var1                     False\n",
       "Loan_Amount_Submitted     True\n",
       "Loan_Tenure_Submitted     True\n",
       "Interest_Rate             True\n",
       "Processing_Fee            True\n",
       "EMI_Loan_Submitted        True\n",
       "Filled_Form              False\n",
       "Device_Type              False\n",
       "Var2                     False\n",
       "Source                   False\n",
       "Var4                     False\n",
       "LoggedIn                 False\n",
       "Disbursed                False\n",
       "dtype: bool"
      ]
     },
     "execution_count": 8,
     "metadata": {},
     "output_type": "execute_result"
    }
   ],
   "source": [
    "train.isnull().any()"
   ]
  },
  {
   "cell_type": "code",
   "execution_count": 9,
   "metadata": {
    "collapsed": false
   },
   "outputs": [
    {
     "data": {
      "text/plain": [
       "(37717, 24)"
      ]
     },
     "execution_count": 9,
     "metadata": {},
     "output_type": "execute_result"
    }
   ],
   "source": [
    "test.shape"
   ]
  },
  {
   "cell_type": "code",
   "execution_count": 13,
   "metadata": {
    "collapsed": false
   },
   "outputs": [
    {
     "data": {
      "text/plain": [
       "ID                        object\n",
       "Gender                    object\n",
       "City                      object\n",
       "Monthly_Income             int64\n",
       "DOB                       object\n",
       "Lead_Creation_Date        object\n",
       "Loan_Amount_Applied      float64\n",
       "Loan_Tenure_Applied      float64\n",
       "Existing_EMI             float64\n",
       "Employer_Name             object\n",
       "Salary_Account            object\n",
       "Mobile_Verified           object\n",
       "Var5                       int64\n",
       "Var1                      object\n",
       "Loan_Amount_Submitted    float64\n",
       "Loan_Tenure_Submitted    float64\n",
       "Interest_Rate            float64\n",
       "Processing_Fee           float64\n",
       "EMI_Loan_Submitted       float64\n",
       "Filled_Form               object\n",
       "Device_Type               object\n",
       "Var2                      object\n",
       "Source                    object\n",
       "Var4                       int64\n",
       "dtype: object"
      ]
     },
     "execution_count": 13,
     "metadata": {},
     "output_type": "execute_result"
    }
   ],
   "source": [
    "test.dtypes"
   ]
  },
  {
   "cell_type": "code",
   "execution_count": 10,
   "metadata": {
    "collapsed": false
   },
   "outputs": [
    {
     "data": {
      "text/plain": [
       "ID                       False\n",
       "Gender                   False\n",
       "City                      True\n",
       "Monthly_Income           False\n",
       "DOB                      False\n",
       "Lead_Creation_Date       False\n",
       "Loan_Amount_Applied       True\n",
       "Loan_Tenure_Applied       True\n",
       "Existing_EMI              True\n",
       "Employer_Name             True\n",
       "Salary_Account            True\n",
       "Mobile_Verified          False\n",
       "Var5                     False\n",
       "Var1                     False\n",
       "Loan_Amount_Submitted     True\n",
       "Loan_Tenure_Submitted     True\n",
       "Interest_Rate             True\n",
       "Processing_Fee            True\n",
       "EMI_Loan_Submitted        True\n",
       "Filled_Form              False\n",
       "Device_Type              False\n",
       "Var2                     False\n",
       "Source                   False\n",
       "Var4                     False\n",
       "dtype: bool"
      ]
     },
     "execution_count": 10,
     "metadata": {},
     "output_type": "execute_result"
    }
   ],
   "source": [
    "test.isnull().any()"
   ]
  },
  {
   "cell_type": "code",
   "execution_count": 12,
   "metadata": {
    "collapsed": true
   },
   "outputs": [],
   "source": [
    "def num_missing(x):\n",
    "  return sum(x.isnull())"
   ]
  },
  {
   "cell_type": "code",
   "execution_count": 13,
   "metadata": {
    "collapsed": false
   },
   "outputs": [
    {
     "name": "stdout",
     "output_type": "stream",
     "text": [
      "Missing values per column:\n",
      "ID                           0\n",
      "Gender                       0\n",
      "City                      1003\n",
      "Monthly_Income               0\n",
      "DOB                          0\n",
      "Lead_Creation_Date           0\n",
      "Loan_Amount_Applied         71\n",
      "Loan_Tenure_Applied         71\n",
      "Existing_EMI                71\n",
      "Employer_Name               71\n",
      "Salary_Account           11764\n",
      "Mobile_Verified              0\n",
      "Var5                         0\n",
      "Var1                         0\n",
      "Loan_Amount_Submitted    34613\n",
      "Loan_Tenure_Submitted    34613\n",
      "Interest_Rate            59294\n",
      "Processing_Fee           59600\n",
      "EMI_Loan_Submitted       59294\n",
      "Filled_Form                  0\n",
      "Device_Type                  0\n",
      "Var2                         0\n",
      "Source                       0\n",
      "Var4                         0\n",
      "LoggedIn                     0\n",
      "Disbursed                    0\n",
      "dtype: int64\n"
     ]
    }
   ],
   "source": [
    "print \"Missing values per column:\"\n",
    "print train.apply(num_missing, axis=0)"
   ]
  },
  {
   "cell_type": "code",
   "execution_count": 20,
   "metadata": {
    "collapsed": false
   },
   "outputs": [
    {
     "name": "stdout",
     "output_type": "stream",
     "text": [
      "Missing values per column:\n",
      "ID                           0\n",
      "Gender                       0\n",
      "City                       398\n",
      "Monthly_Income               0\n",
      "DOB                          0\n",
      "Lead_Creation_Date           0\n",
      "Loan_Amount_Applied         40\n",
      "Loan_Tenure_Applied         40\n",
      "Existing_EMI                40\n",
      "Employer_Name               42\n",
      "Salary_Account            5037\n",
      "Mobile_Verified              0\n",
      "Var5                         0\n",
      "Var1                         0\n",
      "Loan_Amount_Submitted    14922\n",
      "Loan_Tenure_Submitted    14922\n",
      "Interest_Rate            25607\n",
      "Processing_Fee           25746\n",
      "EMI_Loan_Submitted       25607\n",
      "Filled_Form                  0\n",
      "Device_Type                  0\n",
      "Var2                         0\n",
      "Source                       0\n",
      "Var4                         0\n",
      "dtype: int64\n"
     ]
    }
   ],
   "source": [
    "print \"Missing values per column:\"\n",
    "print test.apply(num_missing, axis=0)"
   ]
  },
  {
   "cell_type": "code",
   "execution_count": 14,
   "metadata": {
    "collapsed": true
   },
   "outputs": [],
   "source": [
    "#imbalanced data problem so should be handled that way"
   ]
  },
  {
   "cell_type": "code",
   "execution_count": 15,
   "metadata": {
    "collapsed": false
   },
   "outputs": [],
   "source": [
    "#dropping Id\n",
    "train.drop('ID',axis=1,inplace=True)\n",
    "test.drop('ID',axis=1,inplace=True)"
   ]
  },
  {
   "cell_type": "code",
   "execution_count": 16,
   "metadata": {
    "collapsed": false
   },
   "outputs": [
    {
     "data": {
      "text/plain": [
       "Index([u'Gender', u'City', u'Monthly_Income', u'DOB', u'Lead_Creation_Date',\n",
       "       u'Loan_Amount_Applied', u'Loan_Tenure_Applied', u'Existing_EMI',\n",
       "       u'Employer_Name', u'Salary_Account', u'Mobile_Verified', u'Var5',\n",
       "       u'Var1', u'Loan_Amount_Submitted', u'Loan_Tenure_Submitted',\n",
       "       u'Interest_Rate', u'Processing_Fee', u'EMI_Loan_Submitted',\n",
       "       u'Filled_Form', u'Device_Type', u'Var2', u'Source', u'Var4',\n",
       "       u'LoggedIn', u'Disbursed'],\n",
       "      dtype='object')"
      ]
     },
     "execution_count": 16,
     "metadata": {},
     "output_type": "execute_result"
    }
   ],
   "source": [
    "#univariate analysis\n",
    "train.columns"
   ]
  },
  {
   "cell_type": "code",
   "execution_count": 17,
   "metadata": {
    "collapsed": false
   },
   "outputs": [
    {
     "data": {
      "text/plain": [
       "Male      49848\n",
       "Female    37172\n",
       "Name: Gender, dtype: int64"
      ]
     },
     "execution_count": 17,
     "metadata": {},
     "output_type": "execute_result"
    }
   ],
   "source": [
    "#categorical variables\n",
    "train['Gender'].value_counts()\n",
    "#not imbalanced"
   ]
  },
  {
   "cell_type": "code",
   "execution_count": 18,
   "metadata": {
    "collapsed": false
   },
   "outputs": [
    {
     "data": {
      "text/plain": [
       "697"
      ]
     },
     "execution_count": 18,
     "metadata": {},
     "output_type": "execute_result"
    }
   ],
   "source": [
    "#categorical variables\n",
    "len(train['City'].value_counts())\n",
    "#lot of categories\n",
    "#drop it or use few top occurence as different variable"
   ]
  },
  {
   "cell_type": "code",
   "execution_count": 30,
   "metadata": {
    "collapsed": false
   },
   "outputs": [
    {
     "data": {
      "text/plain": [
       "Delhi                  12527\n",
       "Bengaluru              10824\n",
       "Mumbai                 10795\n",
       "Hyderabad               7272\n",
       "Chennai                 6916\n",
       "Pune                    5207\n",
       "Kolkata                 2888\n",
       "Ahmedabad               1788\n",
       "Jaipur                  1331\n",
       "Gurgaon                 1212\n",
       "Coimbatore              1147\n",
       "Thane                    905\n",
       "Chandigarh               870\n",
       "Surat                    802\n",
       "Visakhapatnam            764\n",
       "Indore                   734\n",
       "Vadodara                 624\n",
       "Nagpur                   594\n",
       "Lucknow                  580\n",
       "Ghaziabad                560\n",
       "Bhopal                   513\n",
       "Kochi                    492\n",
       "Patna                    461\n",
       "Faridabad                447\n",
       "Madurai                  375\n",
       "Noida                    373\n",
       "Gautam Buddha Nagar      338\n",
       "Dehradun                 314\n",
       "Raipur                   289\n",
       "Bhubaneswar              277\n",
       "                       ...  \n",
       "Fazilka                    1\n",
       "Mainpuri                   1\n",
       "Kargil                     1\n",
       "DHORAJI                    1\n",
       "Chinnamiram                1\n",
       "SOMNATH JUNAGADHA          1\n",
       "Nalbari                    1\n",
       "Sawai Madhopur             1\n",
       "Rampur                     1\n",
       "Champawat                  1\n",
       "SAYAN                      1\n",
       "Sheikhpura                 1\n",
       "Magadh                     1\n",
       "Tonk                       1\n",
       "CHOTILA                    1\n",
       "Surendra Nagar             1\n",
       "Shahpura                   1\n",
       "Pulwama                    1\n",
       "Damoh                      1\n",
       "Munger                     1\n",
       "Dantewada                  1\n",
       "Kabri Anglong              1\n",
       "Umaria                     1\n",
       "Nabha                      1\n",
       "Beawar                     1\n",
       "Madhepura                  1\n",
       "KAMREJ                     1\n",
       "Baksa                      1\n",
       "Jashpur                    1\n",
       "Kishanganj                 1\n",
       "Name: City, Length: 697, dtype: int64"
      ]
     },
     "execution_count": 30,
     "metadata": {},
     "output_type": "execute_result"
    }
   ],
   "source": [
    "train['City'].value_counts()"
   ]
  },
  {
   "cell_type": "code",
   "execution_count": 19,
   "metadata": {
    "collapsed": false
   },
   "outputs": [
    {
     "data": {
      "text/plain": [
       "<matplotlib.axes._subplots.AxesSubplot at 0x7fcbb3a27fd0>"
      ]
     },
     "execution_count": 19,
     "metadata": {},
     "output_type": "execute_result"
    },
    {
     "data": {
      "image/png": "[encoded data removed]",
      "text/plain": [
       "<matplotlib.figure.Figure at 0x7fcbb3a27690>"
      ]
     },
     "metadata": {},
     "output_type": "display_data"
    }
   ],
   "source": [
    "#consider it as continous variable\n",
    "sns.distplot(train['Monthly_Income'])\n"
   ]
  },
  {
   "cell_type": "code",
   "execution_count": 20,
   "metadata": {
    "collapsed": false
   },
   "outputs": [
    {
     "data": {
      "text/plain": [
       "pandas.core.series.Series"
      ]
     },
     "execution_count": 20,
     "metadata": {},
     "output_type": "execute_result"
    }
   ],
   "source": [
    "# date of birth variable can be used for age variable\n",
    "type(train['DOB'])"
   ]
  },
  {
   "cell_type": "code",
   "execution_count": 21,
   "metadata": {
    "collapsed": false
   },
   "outputs": [
    {
     "data": {
      "text/plain": [
       "03-Jul-15    2315\n",
       "23-Jul-15    1994\n",
       "30-Jul-15    1297\n",
       "27-Jul-15    1292\n",
       "31-Jul-15    1268\n",
       "29-Jul-15    1236\n",
       "20-Jul-15    1231\n",
       "22-Jun-15    1201\n",
       "21-Jul-15    1201\n",
       "15-Jul-15    1193\n",
       "28-Jul-15    1191\n",
       "26-May-15    1190\n",
       "18-Jul-15    1188\n",
       "22-Jul-15    1188\n",
       "23-Jun-15    1187\n",
       "17-Jun-15    1154\n",
       "04-Jun-15    1132\n",
       "05-May-15    1128\n",
       "06-Jul-15    1126\n",
       "29-Jun-15    1088\n",
       "04-May-15    1088\n",
       "13-May-15    1081\n",
       "18-May-15    1078\n",
       "03-Jun-15    1066\n",
       "27-May-15    1064\n",
       "07-Jul-15    1055\n",
       "18-Jun-15    1049\n",
       "26-Jun-15    1047\n",
       "25-May-15    1045\n",
       "09-Jun-15    1044\n",
       "             ... \n",
       "08-May-15     860\n",
       "13-Jul-15     854\n",
       "20-Jun-15     820\n",
       "24-Jun-15     815\n",
       "30-May-15     808\n",
       "05-Jun-15     804\n",
       "10-Jul-15     779\n",
       "09-May-15     760\n",
       "13-Jun-15     750\n",
       "11-Jun-15     748\n",
       "19-May-15     725\n",
       "02-May-15     725\n",
       "06-Jun-15     717\n",
       "25-Jun-15     709\n",
       "21-Jun-15     691\n",
       "23-May-15     686\n",
       "26-Jul-15     673\n",
       "05-Jul-15     630\n",
       "28-Jun-15     629\n",
       "01-May-15     608\n",
       "11-Jul-15     598\n",
       "19-Jul-15     597\n",
       "17-May-15     571\n",
       "07-Jun-15     559\n",
       "03-May-15     527\n",
       "24-May-15     502\n",
       "31-May-15     498\n",
       "12-Jul-15     475\n",
       "10-May-15     459\n",
       "14-Jun-15     373\n",
       "Name: Lead_Creation_Date, Length: 92, dtype: int64"
      ]
     },
     "execution_count": 21,
     "metadata": {},
     "output_type": "execute_result"
    }
   ],
   "source": [
    "#number of months can be extracted from it\n",
    "train['Lead_Creation_Date'].value_counts()"
   ]
  },
  {
   "cell_type": "code",
   "execution_count": 23,
   "metadata": {
    "collapsed": false
   },
   "outputs": [
    {
     "data": {
      "text/plain": [
       "0.0          28853\n",
       "100000.0     14311\n",
       "200000.0     13058\n",
       "300000.0      9995\n",
       "500000.0      9762\n",
       "1000000.0     4195\n",
       "50000.0       1245\n",
       "400000.0       546\n",
       "150000.0       540\n",
       "600000.0       391\n",
       "1500000.0      374\n",
       "700000.0       343\n",
       "800000.0       227\n",
       "2000000.0      215\n",
       "60000.0        207\n",
       "250000.0       192\n",
       "30000.0        158\n",
       "350000.0       144\n",
       "2500000.0      134\n",
       "70000.0        130\n",
       "20000.0        109\n",
       "1200000.0      105\n",
       "80000.0         89\n",
       "75000.0         89\n",
       "40000.0         88\n",
       "25000.0         82\n",
       "3000000.0       80\n",
       "10000.0         58\n",
       "450000.0        47\n",
       "900000.0        41\n",
       "             ...  \n",
       "22500.0          1\n",
       "157000.0         1\n",
       "1780000.0        1\n",
       "370000.0         1\n",
       "132000.0         1\n",
       "5500.0           1\n",
       "605000.0         1\n",
       "139450.0         1\n",
       "4800000.0        1\n",
       "5.0              1\n",
       "9499.0           1\n",
       "740000.0         1\n",
       "216000.0         1\n",
       "1650000.0        1\n",
       "920000.0         1\n",
       "312000.0         1\n",
       "497000.0         1\n",
       "349000.0         1\n",
       "109000.0         1\n",
       "425000.0         1\n",
       "8500.0           1\n",
       "290000.0         1\n",
       "207963.0         1\n",
       "95000.0          1\n",
       "285000.0         1\n",
       "560000.0         1\n",
       "475000.0         1\n",
       "460000.0         1\n",
       "1405000.0        1\n",
       "204000.0         1\n",
       "Name: Loan_Amount_Applied, Length: 277, dtype: int64"
      ]
     },
     "execution_count": 23,
     "metadata": {},
     "output_type": "execute_result"
    }
   ],
   "source": [
    "#lot of zeros present and missing value are also there which are less and hence can be imputed by median\n",
    "#new variable can be created yes or no kind of that\n",
    "train['Loan_Amount_Applied'].value_counts()"
   ]
  },
  {
   "cell_type": "code",
   "execution_count": 24,
   "metadata": {
    "collapsed": false
   },
   "outputs": [
    {
     "data": {
      "text/plain": [
       "0.0     33844\n",
       "5.0     19083\n",
       "3.0     13080\n",
       "2.0      9463\n",
       "4.0      6620\n",
       "1.0      4812\n",
       "10.0       40\n",
       "7.0         3\n",
       "6.0         2\n",
       "9.0         1\n",
       "8.0         1\n",
       "Name: Loan_Tenure_Applied, dtype: int64"
      ]
     },
     "execution_count": 24,
     "metadata": {},
     "output_type": "execute_result"
    }
   ],
   "source": [
    "#categorical variable\n",
    "#6,7,8,10 can be merged to get a new variable\n",
    "#most frequent imputation\n",
    "train['Loan_Tenure_Applied'].value_counts()"
   ]
  },
  {
   "cell_type": "code",
   "execution_count": 25,
   "metadata": {
    "collapsed": false
   },
   "outputs": [
    {
     "data": {
      "text/plain": [
       "0.0        58238\n",
       "5000.0      2695\n",
       "10000.0     1737\n",
       "3000.0      1581\n",
       "4000.0      1226\n",
       "2000.0      1097\n",
       "6000.0       837\n",
       "15000.0      800\n",
       "8000.0       786\n",
       "2500.0       727\n",
       "7000.0       718\n",
       "3500.0       601\n",
       "20000.0      521\n",
       "12000.0      480\n",
       "9000.0       361\n",
       "4500.0       340\n",
       "1500.0       323\n",
       "1000.0       323\n",
       "25000.0      282\n",
       "11000.0      277\n",
       "7500.0       255\n",
       "30000.0      241\n",
       "14000.0      217\n",
       "13000.0      209\n",
       "5500.0       203\n",
       "8500.0       187\n",
       "18000.0      185\n",
       "6500.0       166\n",
       "16000.0      158\n",
       "17000.0      158\n",
       "           ...  \n",
       "8320.0         1\n",
       "22300.0        1\n",
       "9359.0         1\n",
       "13161.0        1\n",
       "5801.0         1\n",
       "6348.0         1\n",
       "9370.0         1\n",
       "14062.0        1\n",
       "6918.0         1\n",
       "2855.0         1\n",
       "1989.0         1\n",
       "9387.0         1\n",
       "11434.0        1\n",
       "13481.0        1\n",
       "6802.0         1\n",
       "27250.0        1\n",
       "2858.0         1\n",
       "8326.0         1\n",
       "9676.0         1\n",
       "4105.0         1\n",
       "7762.0         1\n",
       "11427.0        1\n",
       "6737.0         1\n",
       "122.0          1\n",
       "2344.0         1\n",
       "11036.0        1\n",
       "1703.0         1\n",
       "2335.0         1\n",
       "2936.0         1\n",
       "1543.0         1\n",
       "Name: Existing_EMI, Length: 3753, dtype: int64"
      ]
     },
     "execution_count": 25,
     "metadata": {},
     "output_type": "execute_result"
    }
   ],
   "source": [
    "# yes or no variable and 0 imputation\n",
    "train['Existing_EMI'].value_counts()"
   ]
  },
  {
   "cell_type": "code",
   "execution_count": 26,
   "metadata": {
    "collapsed": false
   },
   "outputs": [],
   "source": [
    "#drop employer name as many categorical variables\n",
    "train.drop('Employer_Name',axis=1,inplace=True)\n",
    "test.drop('Employer_Name',axis=1,inplace=True)"
   ]
  },
  {
   "cell_type": "code",
   "execution_count": 27,
   "metadata": {
    "collapsed": false
   },
   "outputs": [],
   "source": [
    "#drop it lot of categories\n",
    "train.drop('Salary_Account',axis=1,inplace=True)\n",
    "test.drop('Salary_Account',axis=1,inplace=True)"
   ]
  },
  {
   "cell_type": "code",
   "execution_count": 28,
   "metadata": {
    "collapsed": false
   },
   "outputs": [
    {
     "data": {
      "text/plain": [
       "Y    56481\n",
       "N    30539\n",
       "Name: Mobile_Verified, dtype: int64"
      ]
     },
     "execution_count": 28,
     "metadata": {},
     "output_type": "execute_result"
    }
   ],
   "source": [
    "# not imbalanced can be used directly\n",
    "train['Mobile_Verified'].value_counts()"
   ]
  },
  {
   "cell_type": "code",
   "execution_count": 29,
   "metadata": {
    "collapsed": false
   },
   "outputs": [
    {
     "data": {
      "text/plain": [
       "<matplotlib.axes._subplots.AxesSubplot at 0x7fcbb3a18410>"
      ]
     },
     "execution_count": 29,
     "metadata": {},
     "output_type": "execute_result"
    },
    {
     "data": {
      "image/png": "[encoded data removed]",
      "text/plain": [
       "<matplotlib.figure.Figure at 0x7fcbb3a18510>"
      ]
     },
     "metadata": {},
     "output_type": "display_data"
    }
   ],
   "source": [
    "#continous variable\n",
    "#bimodal plot\n",
    "sns.distplot(train['Var5'])"
   ]
  },
  {
   "cell_type": "code",
   "execution_count": 30,
   "metadata": {
    "collapsed": false
   },
   "outputs": [
    {
     "data": {
      "text/plain": [
       "HBXX    59294\n",
       "HBXC     9010\n",
       "HBXB     4479\n",
       "HAXA     2909\n",
       "HBXA     2123\n",
       "HAXB     2011\n",
       "HBXD     1964\n",
       "HAXC     1536\n",
       "HBXH      970\n",
       "HCXF      722\n",
       "HAYT      508\n",
       "HAVC      384\n",
       "HAXM      268\n",
       "HCXD      237\n",
       "HCYS      217\n",
       "HVYS      186\n",
       "HAZD      109\n",
       "HCXG       78\n",
       "HAXF       15\n",
       "Name: Var1, dtype: int64"
      ]
     },
     "execution_count": 30,
     "metadata": {},
     "output_type": "execute_result"
    }
   ],
   "source": [
    "#continous variable\n",
    "#categorical variables\n",
    "train['Var1'].value_counts()"
   ]
  },
  {
   "cell_type": "code",
   "execution_count": 31,
   "metadata": {
    "collapsed": false
   },
   "outputs": [
    {
     "data": {
      "text/plain": [
       "0              NaN\n",
       "1         200000.0\n",
       "2         450000.0\n",
       "3         920000.0\n",
       "4         500000.0\n",
       "5         300000.0\n",
       "6              NaN\n",
       "7         200000.0\n",
       "8        1300000.0\n",
       "9         300000.0\n",
       "10        660000.0\n",
       "11             NaN\n",
       "12             NaN\n",
       "13        200000.0\n",
       "14             NaN\n",
       "15        500000.0\n",
       "16        300000.0\n",
       "17             NaN\n",
       "18             NaN\n",
       "19        450000.0\n",
       "20       1040000.0\n",
       "21             NaN\n",
       "22             NaN\n",
       "23        600000.0\n",
       "24        740000.0\n",
       "25             NaN\n",
       "26        260000.0\n",
       "27             NaN\n",
       "28             NaN\n",
       "29       1000000.0\n",
       "           ...    \n",
       "86990    1440000.0\n",
       "86991    1440000.0\n",
       "86992          NaN\n",
       "86993     600000.0\n",
       "86994     190000.0\n",
       "86995     180000.0\n",
       "86996     500000.0\n",
       "86997     500000.0\n",
       "86998     810000.0\n",
       "86999          NaN\n",
       "87000          NaN\n",
       "87001     950000.0\n",
       "87002          NaN\n",
       "87003     570000.0\n",
       "87004          NaN\n",
       "87005    1000000.0\n",
       "87006          NaN\n",
       "87007     190000.0\n",
       "87008     870000.0\n",
       "87009     200000.0\n",
       "87010     500000.0\n",
       "87011     240000.0\n",
       "87012     300000.0\n",
       "87013     300000.0\n",
       "87014          NaN\n",
       "87015          NaN\n",
       "87016     240000.0\n",
       "87017    1200000.0\n",
       "87018     800000.0\n",
       "87019     690000.0\n",
       "Name: Loan_Amount_Submitted, Length: 87020, dtype: float64"
      ]
     },
     "execution_count": 31,
     "metadata": {},
     "output_type": "execute_result"
    }
   ],
   "source": [
    "#use as continous variables\n",
    "#median imputation will work\n",
    "train['Loan_Amount_Submitted']"
   ]
  },
  {
   "cell_type": "code",
   "execution_count": 32,
   "metadata": {
    "collapsed": false
   },
   "outputs": [
    {
     "data": {
      "text/plain": [
       "5.0    20765\n",
       "4.0    15135\n",
       "3.0     8858\n",
       "2.0     5332\n",
       "1.0     2314\n",
       "6.0        3\n",
       "Name: Loan_Tenure_Submitted, dtype: int64"
      ]
     },
     "execution_count": 32,
     "metadata": {},
     "output_type": "execute_result"
    }
   ],
   "source": [
    "#max freq imputation\n",
    "#categorical variable\n",
    "train['Loan_Tenure_Submitted'].value_counts()"
   ]
  },
  {
   "cell_type": "code",
   "execution_count": 33,
   "metadata": {
    "collapsed": false
   },
   "outputs": [
    {
     "data": {
      "text/plain": [
       "<matplotlib.axes._subplots.AxesSubplot at 0x7fcbb4c45c50>"
      ]
     },
     "execution_count": 33,
     "metadata": {},
     "output_type": "execute_result"
    },
    {
     "data": {
      "image/png": "[encoded data removed]",
      "text/plain": [
       "<matplotlib.figure.Figure at 0x7fcbb3a18590>"
      ]
     },
     "metadata": {},
     "output_type": "display_data"
    }
   ],
   "source": [
    "#continous variable\n",
    "#median imputation\n",
    "sns.distplot(train['Interest_Rate'].dropna())"
   ]
  },
  {
   "cell_type": "code",
   "execution_count": 34,
   "metadata": {
    "collapsed": false
   },
   "outputs": [
    {
     "data": {
      "text/plain": [
       "<matplotlib.axes._subplots.AxesSubplot at 0x7fcbb57f3b10>"
      ]
     },
     "execution_count": 34,
     "metadata": {},
     "output_type": "execute_result"
    },
    {
     "data": {
      "image/png": "[encoded data removed]",
      "text/plain": [
       "<matplotlib.figure.Figure at 0x7fcbb5793c90>"
      ]
     },
     "metadata": {},
     "output_type": "display_data"
    }
   ],
   "source": [
    "#continous variables\n",
    "#median imputation\n",
    "sns.distplot(train['Processing_Fee'].value_counts())"
   ]
  },
  {
   "cell_type": "code",
   "execution_count": 35,
   "metadata": {
    "collapsed": false
   },
   "outputs": [
    {
     "data": {
      "text/plain": [
       "<matplotlib.axes._subplots.AxesSubplot at 0x7fcbb579d7d0>"
      ]
     },
     "execution_count": 35,
     "metadata": {},
     "output_type": "execute_result"
    },
    {
     "data": {
      "image/png": "[encoded data removed]",
      "text/plain": [
       "<matplotlib.figure.Figure at 0x7fcbb55d65d0>"
      ]
     },
     "metadata": {},
     "output_type": "display_data"
    }
   ],
   "source": [
    "#median imputation and continous variables\n",
    "sns.distplot(train['EMI_Loan_Submitted'].dropna())"
   ]
  },
  {
   "cell_type": "code",
   "execution_count": 36,
   "metadata": {
    "collapsed": false
   },
   "outputs": [
    {
     "data": {
      "text/plain": [
       "Index([u'Gender', u'City', u'Monthly_Income', u'DOB', u'Lead_Creation_Date',\n",
       "       u'Loan_Amount_Applied', u'Loan_Tenure_Applied', u'Existing_EMI',\n",
       "       u'Mobile_Verified', u'Var5', u'Var1', u'Loan_Amount_Submitted',\n",
       "       u'Loan_Tenure_Submitted', u'Interest_Rate', u'Processing_Fee',\n",
       "       u'EMI_Loan_Submitted', u'Filled_Form', u'Device_Type', u'Var2',\n",
       "       u'Source', u'Var4', u'LoggedIn', u'Disbursed'],\n",
       "      dtype='object')"
      ]
     },
     "execution_count": 36,
     "metadata": {},
     "output_type": "execute_result"
    }
   ],
   "source": [
    "train.columns"
   ]
  },
  {
   "cell_type": "code",
   "execution_count": 37,
   "metadata": {
    "collapsed": false
   },
   "outputs": [
    {
     "data": {
      "text/plain": [
       "N    67530\n",
       "Y    19490\n",
       "Name: Filled_Form, dtype: int64"
      ]
     },
     "execution_count": 37,
     "metadata": {},
     "output_type": "execute_result"
    }
   ],
   "source": [
    "#that is imbalanced but good to go\n",
    "train['Filled_Form'].value_counts()"
   ]
  },
  {
   "cell_type": "code",
   "execution_count": 38,
   "metadata": {
    "collapsed": false
   },
   "outputs": [
    {
     "data": {
      "text/plain": [
       "Web-browser    64316\n",
       "Mobile         22704\n",
       "Name: Device_Type, dtype: int64"
      ]
     },
     "execution_count": 38,
     "metadata": {},
     "output_type": "execute_result"
    }
   ],
   "source": [
    "#categorical variable\n",
    "train['Device_Type'].value_counts()"
   ]
  },
  {
   "cell_type": "code",
   "execution_count": 39,
   "metadata": {
    "collapsed": false
   },
   "outputs": [
    {
     "data": {
      "text/plain": [
       "B    37280\n",
       "G    33032\n",
       "C    14210\n",
       "E     1315\n",
       "D      634\n",
       "F      544\n",
       "A        5\n",
       "Name: Var2, dtype: int64"
      ]
     },
     "execution_count": 39,
     "metadata": {},
     "output_type": "execute_result"
    }
   ],
   "source": [
    "#categorical variables\n",
    "#merging can be done\n",
    "train['Var2'].value_counts()"
   ]
  },
  {
   "cell_type": "code",
   "execution_count": 40,
   "metadata": {
    "collapsed": false
   },
   "outputs": [
    {
     "data": {
      "text/plain": [
       "30"
      ]
     },
     "execution_count": 40,
     "metadata": {},
     "output_type": "execute_result"
    }
   ],
   "source": [
    "#lot of categories should be dropped\n",
    "len(train['Source'].value_counts())"
   ]
  },
  {
   "cell_type": "code",
   "execution_count": 41,
   "metadata": {
    "collapsed": false
   },
   "outputs": [
    {
     "data": {
      "text/plain": [
       "3    25260\n",
       "1    23906\n",
       "5    20266\n",
       "4     6577\n",
       "2     5931\n",
       "0     2546\n",
       "7     2302\n",
       "6      232\n",
       "Name: Var4, dtype: int64"
      ]
     },
     "execution_count": 41,
     "metadata": {},
     "output_type": "execute_result"
    }
   ],
   "source": [
    "#merging should be there\n",
    "train['Var4'].value_counts()"
   ]
  },
  {
   "cell_type": "code",
   "execution_count": 42,
   "metadata": {
    "collapsed": false
   },
   "outputs": [
    {
     "data": {
      "text/plain": [
       "0    84466\n",
       "1     2554\n",
       "Name: LoggedIn, dtype: int64"
      ]
     },
     "execution_count": 42,
     "metadata": {},
     "output_type": "execute_result"
    }
   ],
   "source": [
    "#highly imbalanced categorical variable\n",
    "train['LoggedIn'].value_counts()"
   ]
  },
  {
   "cell_type": "code",
   "execution_count": 43,
   "metadata": {
    "collapsed": false
   },
   "outputs": [
    {
     "data": {
      "text/plain": [
       "0    85747\n",
       "1     1273\n",
       "Name: Disbursed, dtype: int64"
      ]
     },
     "execution_count": 43,
     "metadata": {},
     "output_type": "execute_result"
    }
   ],
   "source": [
    "#highly imbalanced categorical variable\n",
    "train['Disbursed'].value_counts()"
   ]
  },
  {
   "cell_type": "code",
   "execution_count": 102,
   "metadata": {
    "collapsed": true
   },
   "outputs": [],
   "source": [
    "#merging train and test data\n",
    "total_data=pd.concat([train,test],axis=0)"
   ]
  },
  {
   "cell_type": "code",
   "execution_count": 103,
   "metadata": {
    "collapsed": false
   },
   "outputs": [
    {
     "data": {
      "text/plain": [
       "Index([u'City', u'DOB', u'Device_Type', u'Disbursed', u'EMI_Loan_Submitted',\n",
       "       u'Existing_EMI', u'Filled_Form', u'Gender', u'Interest_Rate',\n",
       "       u'Lead_Creation_Date', u'Loan_Amount_Applied', u'Loan_Amount_Submitted',\n",
       "       u'Loan_Tenure_Applied', u'Loan_Tenure_Submitted', u'LoggedIn',\n",
       "       u'Mobile_Verified', u'Monthly_Income', u'Processing_Fee', u'Source',\n",
       "       u'Var1', u'Var2', u'Var4', u'Var5'],\n",
       "      dtype='object')"
      ]
     },
     "execution_count": 103,
     "metadata": {},
     "output_type": "execute_result"
    }
   ],
   "source": [
    "total_data.columns"
   ]
  },
  {
   "cell_type": "code",
   "execution_count": 104,
   "metadata": {
    "collapsed": false
   },
   "outputs": [],
   "source": [
    "total_data.drop('City',axis=1,inplace=True)"
   ]
  },
  {
   "cell_type": "code",
   "execution_count": 105,
   "metadata": {
    "collapsed": false
   },
   "outputs": [],
   "source": [
    "total_data=total_data.reset_index(drop=True)"
   ]
  },
  {
   "cell_type": "code",
   "execution_count": 106,
   "metadata": {
    "collapsed": false
   },
   "outputs": [
    {
     "name": "stderr",
     "output_type": "stream",
     "text": [
      "/home/roop/anaconda2/lib/python2.7/site-packages/ipykernel/__main__.py:4: DeprecationWarning: \n",
      ".ix is deprecated. Please use\n",
      ".loc for label based indexing or\n",
      ".iloc for positional indexing\n",
      "\n",
      "See the documentation here:\n",
      "http://pandas.pydata.org/pandas-docs/stable/indexing.html#deprecate_ix\n"
     ]
    },
    {
     "name": "stdout",
     "output_type": "stream",
     "text": [
      "0\n",
      "10000\n",
      "20000\n",
      "30000\n",
      "40000\n",
      "50000\n",
      "60000\n",
      "70000\n",
      "80000\n",
      "90000\n",
      "100000\n",
      "110000\n",
      "120000\n"
     ]
    }
   ],
   "source": [
    "total_data['Age']=0\n",
    "n=total_data.shape[0]\n",
    "for i in range(n):\n",
    "    k=total_data.ix[i,'DOB']\n",
    "    total_data.ix[i,'Age']=17+int(100-int(k[7:]))\n",
    "    if i%10000==0:\n",
    "        print(i)"
   ]
  },
  {
   "cell_type": "code",
   "execution_count": 107,
   "metadata": {
    "collapsed": false
   },
   "outputs": [],
   "source": [
    "#creating EMI_Loan_Submitted_Missing\n",
    "total_data['EMI_Loan_Submitted_Missing']=total_data['EMI_Loan_Submitted'].isnull()"
   ]
  },
  {
   "cell_type": "code",
   "execution_count": 108,
   "metadata": {
    "collapsed": true
   },
   "outputs": [],
   "source": [
    "#imputin median as very less missing values\n",
    "total_data['Existing_EMI'].fillna(np.median(total_data['Existing_EMI'].dropna()), inplace=True)"
   ]
  },
  {
   "cell_type": "code",
   "execution_count": 109,
   "metadata": {
    "collapsed": true
   },
   "outputs": [],
   "source": [
    "#creating Interest_Rate_Missing\n",
    "total_data['Interest_Rate_Missing']=total_data['Interest_Rate'].isnull()"
   ]
  },
  {
   "cell_type": "code",
   "execution_count": 110,
   "metadata": {
    "collapsed": true
   },
   "outputs": [],
   "source": [
    "# droping lead creation date\n",
    "total_data.drop('Lead_Creation_Date',axis=1,inplace=True)"
   ]
  },
  {
   "cell_type": "code",
   "execution_count": 111,
   "metadata": {
    "collapsed": true
   },
   "outputs": [],
   "source": [
    "# median imputation\n",
    "total_data['Loan_Amount_Applied'].fillna(np.median(total_data['Loan_Amount_Applied'].dropna()), inplace=True)"
   ]
  },
  {
   "cell_type": "code",
   "execution_count": 112,
   "metadata": {
    "collapsed": true
   },
   "outputs": [],
   "source": [
    "#median imputation\n",
    "total_data['Loan_Tenure_Applied'].fillna(np.median(total_data['Loan_Tenure_Applied'].dropna()), inplace=True)"
   ]
  },
  {
   "cell_type": "code",
   "execution_count": 113,
   "metadata": {
    "collapsed": true
   },
   "outputs": [],
   "source": [
    "# creating Loan_Amount_Submitted_Missing\n",
    "total_data['Loan_Amount_Submitted_Missing']=total_data['Loan_Amount_Submitted'].isnull()"
   ]
  },
  {
   "cell_type": "code",
   "execution_count": 114,
   "metadata": {
    "collapsed": true
   },
   "outputs": [],
   "source": [
    "# creating Loan_Tenure_Submitted_Missing\n",
    "total_data['Loan_Tenure_Submitted_Missing']=total_data['Loan_Tenure_Submitted'].isnull()"
   ]
  },
  {
   "cell_type": "code",
   "execution_count": 115,
   "metadata": {
    "collapsed": true
   },
   "outputs": [],
   "source": [
    "# creating Processing_Fee_Missing\n",
    "total_data['Processing_Fee_Missing']=total_data['Processing_Fee'].isnull()"
   ]
  },
  {
   "cell_type": "code",
   "execution_count": 116,
   "metadata": {
    "collapsed": false
   },
   "outputs": [
    {
     "data": {
      "text/plain": [
       "S122    55249\n",
       "S133    42900\n",
       "S159     7999\n",
       "S143     6140\n",
       "S127     2804\n",
       "S137     2450\n",
       "S134     1900\n",
       "S161     1109\n",
       "S151     1018\n",
       "S157      929\n",
       "S153      705\n",
       "S144      447\n",
       "S156      432\n",
       "S158      294\n",
       "S123      112\n",
       "S141       83\n",
       "S162       60\n",
       "S124       43\n",
       "S150       19\n",
       "S160       11\n",
       "S136        5\n",
       "S138        5\n",
       "S155        5\n",
       "S139        4\n",
       "S129        4\n",
       "S135        2\n",
       "S131        1\n",
       "S130        1\n",
       "S132        1\n",
       "S125        1\n",
       "S140        1\n",
       "S142        1\n",
       "S126        1\n",
       "S154        1\n",
       "Name: Source, dtype: int64"
      ]
     },
     "execution_count": 116,
     "metadata": {},
     "output_type": "execute_result"
    }
   ],
   "source": [
    "total_data['Source'].value_counts()"
   ]
  },
  {
   "cell_type": "code",
   "execution_count": 117,
   "metadata": {
    "collapsed": true
   },
   "outputs": [],
   "source": [
    "# merging other variables\n",
    "n=total_data.shape[0]\n",
    "for i in range(n):\n",
    "    if total_data.ix[i,'Source']!='S122' and total_data.ix[i,'Source']!='S133':\n",
    "        total_data.ix[i,'Source']='other'"
   ]
  },
  {
   "cell_type": "code",
   "execution_count": 118,
   "metadata": {
    "collapsed": false
   },
   "outputs": [
    {
     "data": {
      "text/plain": [
       "S122     55249\n",
       "S133     42900\n",
       "other    26588\n",
       "Name: Source, dtype: int64"
      ]
     },
     "execution_count": 118,
     "metadata": {},
     "output_type": "execute_result"
    }
   ],
   "source": [
    "total_data['Source'].value_counts()"
   ]
  },
  {
   "cell_type": "code",
   "execution_count": 119,
   "metadata": {
    "collapsed": false
   },
   "outputs": [],
   "source": [
    "#drop DON+B\n",
    "total_data.drop('DOB',axis=1,inplace=True)"
   ]
  },
  {
   "cell_type": "code",
   "execution_count": 121,
   "metadata": {
    "collapsed": false
   },
   "outputs": [
    {
     "data": {
      "text/plain": [
       "Index([u'Device_Type', u'Disbursed', u'EMI_Loan_Submitted', u'Existing_EMI',\n",
       "       u'Filled_Form', u'Gender', u'Interest_Rate', u'Loan_Amount_Applied',\n",
       "       u'Loan_Amount_Submitted', u'Loan_Tenure_Applied',\n",
       "       u'Loan_Tenure_Submitted', u'LoggedIn', u'Mobile_Verified',\n",
       "       u'Monthly_Income', u'Processing_Fee', u'Var1', u'Var2', u'Var4',\n",
       "       u'Var5', u'Age', u'EMI_Loan_Submitted_Missing',\n",
       "       u'Interest_Rate_Missing', u'Loan_Amount_Submitted_Missing',\n",
       "       u'Loan_Tenure_Submitted_Missing', u'Processing_Fee_Missing'],\n",
       "      dtype='object')"
      ]
     },
     "execution_count": 121,
     "metadata": {},
     "output_type": "execute_result"
    }
   ],
   "source": [
    "total_data.columns"
   ]
  },
  {
   "cell_type": "code",
   "execution_count": 124,
   "metadata": {
    "collapsed": true
   },
   "outputs": [],
   "source": [
    "#categorical variables - Device_Type, Filled_Form, Gender, Loan_Tenure_Applied, Loan_Tenure_Submitted,LoggedIn\n",
    "# Mobile_Verified, Var1,Var2,Var5,var4,EMI_Loan_Submitted_Missing,Interest_Rate_Missing,Loan_Amount_Submitted_Missing\n",
    "#Loan_Tenure_Submitted_Missing, Processing_Fee_Missing"
   ]
  },
  {
   "cell_type": "code",
   "execution_count": 125,
   "metadata": {
    "collapsed": false
   },
   "outputs": [
    {
     "data": {
      "text/plain": [
       "29     10223\n",
       "30      9687\n",
       "28      9478\n",
       "31      9261\n",
       "27      8954\n",
       "32      8521\n",
       "33      7346\n",
       "34      6529\n",
       "26      6499\n",
       "35      5668\n",
       "25      4814\n",
       "37      4712\n",
       "36      4477\n",
       "38      3084\n",
       "24      2805\n",
       "39      2628\n",
       "40      2083\n",
       "41      1799\n",
       "42      1699\n",
       "47      1381\n",
       "23      1367\n",
       "43      1309\n",
       "44      1084\n",
       "45      1028\n",
       "46       827\n",
       "48       779\n",
       "22       700\n",
       "49       700\n",
       "50       613\n",
       "52       549\n",
       "       ...  \n",
       "53       450\n",
       "55       430\n",
       "54       426\n",
       "56       362\n",
       "57       343\n",
       "21       285\n",
       "58       277\n",
       "59       198\n",
       "20       182\n",
       "60       165\n",
       "61       132\n",
       "62        88\n",
       "63        65\n",
       "66        52\n",
       "67        40\n",
       "65        34\n",
       "64        33\n",
       "102       22\n",
       "70         9\n",
       "74         8\n",
       "75         4\n",
       "68         4\n",
       "71         3\n",
       "69         2\n",
       "85         2\n",
       "76         2\n",
       "72         2\n",
       "88         1\n",
       "79         1\n",
       "81         1\n",
       "Name: Age, Length: 61, dtype: int64"
      ]
     },
     "execution_count": 125,
     "metadata": {},
     "output_type": "execute_result"
    }
   ],
   "source": [
    "total_data['Age'].value_counts()"
   ]
  },
  {
   "cell_type": "code",
   "execution_count": 177,
   "metadata": {
    "collapsed": false
   },
   "outputs": [
    {
     "data": {
      "text/plain": [
       "Index([u'Device_Type', u'Disbursed', u'EMI_Loan_Submitted', u'Existing_EMI',\n",
       "       u'Filled_Form', u'Gender', u'Interest_Rate', u'Loan_Amount_Applied',\n",
       "       u'Loan_Amount_Submitted', u'Loan_Tenure_Applied',\n",
       "       u'Loan_Tenure_Submitted', u'LoggedIn', u'Mobile_Verified',\n",
       "       u'Monthly_Income', u'Processing_Fee', u'Var1', u'Var2', u'Var4',\n",
       "       u'Var5', u'Age', u'EMI_Loan_Submitted_Missing',\n",
       "       u'Interest_Rate_Missing', u'Loan_Amount_Submitted_Missing',\n",
       "       u'Loan_Tenure_Submitted_Missing', u'Processing_Fee_Missing'],\n",
       "      dtype='object')"
      ]
     },
     "execution_count": 177,
     "metadata": {},
     "output_type": "execute_result"
    }
   ],
   "source": [
    "total_data.columns"
   ]
  },
  {
   "cell_type": "code",
   "execution_count": 180,
   "metadata": {
    "collapsed": false
   },
   "outputs": [],
   "source": [
    "#dropping variables less important\n",
    "total_data.drop(['EMI_Loan_Submitted','Interest_Rate','Loan_Amount_Submitted','Loan_Tenure_Submitted','LoggedIn','Processing_Fee'],axis=1,inplace=True)"
   ]
  },
  {
   "cell_type": "code",
   "execution_count": 181,
   "metadata": {
    "collapsed": true
   },
   "outputs": [],
   "source": [
    "categorical_variable=['Device_Type','Filled_Form','Gender','Loan_Tenure_Applied',\n",
    "                      'Mobile_Verified','Var1','Var2','Var5','Var4','EMI_Loan_Submitted_Missing',\n",
    "                      'Interest_Rate_Missing','Loan_Amount_Submitted_Missing','Loan_Tenure_Submitted_Missing', \n",
    "                       'Processing_Fee_Missing']"
   ]
  },
  {
   "cell_type": "code",
   "execution_count": 182,
   "metadata": {
    "collapsed": false
   },
   "outputs": [],
   "source": [
    "for col in categorical_variable:\n",
    "    total_data[col]=total_data[col].astype('category')"
   ]
  },
  {
   "cell_type": "code",
   "execution_count": 183,
   "metadata": {
    "collapsed": false
   },
   "outputs": [
    {
     "data": {
      "text/plain": [
       "Device_Type                      category\n",
       "Disbursed                         float64\n",
       "Existing_EMI                      float64\n",
       "Filled_Form                      category\n",
       "Gender                           category\n",
       "Loan_Amount_Applied               float64\n",
       "Loan_Tenure_Applied              category\n",
       "Mobile_Verified                  category\n",
       "Monthly_Income                      int64\n",
       "Var1                             category\n",
       "Var2                             category\n",
       "Var4                             category\n",
       "Var5                             category\n",
       "Age                                 int64\n",
       "EMI_Loan_Submitted_Missing       category\n",
       "Interest_Rate_Missing            category\n",
       "Loan_Amount_Submitted_Missing    category\n",
       "Loan_Tenure_Submitted_Missing    category\n",
       "Processing_Fee_Missing           category\n",
       "dtype: object"
      ]
     },
     "execution_count": 183,
     "metadata": {},
     "output_type": "execute_result"
    }
   ],
   "source": [
    "total_data.dtypes"
   ]
  },
  {
   "cell_type": "code",
   "execution_count": 184,
   "metadata": {
    "collapsed": false
   },
   "outputs": [],
   "source": [
    "df=pd.DataFrame()"
   ]
  },
  {
   "cell_type": "code",
   "execution_count": 187,
   "metadata": {
    "collapsed": false
   },
   "outputs": [
    {
     "name": "stdout",
     "output_type": "stream",
     "text": [
      "Device_Type\n",
      "Filled_Form\n",
      "Gender\n",
      "Loan_Tenure_Applied\n",
      "Mobile_Verified\n",
      "Var1\n",
      "Var2\n",
      "Var5\n",
      "Var4\n",
      "EMI_Loan_Submitted_Missing\n",
      "Interest_Rate_Missing\n",
      "Loan_Amount_Submitted_Missing\n",
      "Loan_Tenure_Submitted_Missing\n",
      "Processing_Fee_Missing\n"
     ]
    }
   ],
   "source": [
    "for col in categorical_variable:\n",
    "    one_hot=pd.get_dummies(total_data[col],prefix=col)\n",
    "    df=pd.concat([df,one_hot],axis=1)\n",
    "    print(col)"
   ]
  },
  {
   "cell_type": "code",
   "execution_count": 188,
   "metadata": {
    "collapsed": false
   },
   "outputs": [
    {
     "data": {
      "text/plain": [
       "82"
      ]
     },
     "execution_count": 188,
     "metadata": {},
     "output_type": "execute_result"
    }
   ],
   "source": [
    "len(df.columns)"
   ]
  },
  {
   "cell_type": "code",
   "execution_count": 189,
   "metadata": {
    "collapsed": false
   },
   "outputs": [
    {
     "data": {
      "text/plain": [
       "Device_Type_Mobile                     False\n",
       "Device_Type_Web-browser                False\n",
       "Filled_Form_N                          False\n",
       "Filled_Form_Y                          False\n",
       "Gender_Female                          False\n",
       "Gender_Male                            False\n",
       "Loan_Tenure_Applied_0.0                False\n",
       "Loan_Tenure_Applied_1.0                False\n",
       "Loan_Tenure_Applied_2.0                False\n",
       "Loan_Tenure_Applied_3.0                False\n",
       "Loan_Tenure_Applied_4.0                False\n",
       "Loan_Tenure_Applied_5.0                False\n",
       "Loan_Tenure_Applied_6.0                False\n",
       "Loan_Tenure_Applied_7.0                False\n",
       "Loan_Tenure_Applied_8.0                False\n",
       "Loan_Tenure_Applied_9.0                False\n",
       "Loan_Tenure_Applied_10.0               False\n",
       "Mobile_Verified_N                      False\n",
       "Mobile_Verified_Y                      False\n",
       "Var1_HAVC                              False\n",
       "Var1_HAXA                              False\n",
       "Var1_HAXB                              False\n",
       "Var1_HAXC                              False\n",
       "Var1_HAXF                              False\n",
       "Var1_HAXM                              False\n",
       "Var1_HAYT                              False\n",
       "Var1_HAZD                              False\n",
       "Var1_HBXA                              False\n",
       "Var1_HBXB                              False\n",
       "Var1_HBXC                              False\n",
       "                                       ...  \n",
       "Var5_7                                 False\n",
       "Var5_8                                 False\n",
       "Var5_9                                 False\n",
       "Var5_10                                False\n",
       "Var5_11                                False\n",
       "Var5_12                                False\n",
       "Var5_13                                False\n",
       "Var5_14                                False\n",
       "Var5_15                                False\n",
       "Var5_16                                False\n",
       "Var5_17                                False\n",
       "Var5_18                                False\n",
       "Var4_0                                 False\n",
       "Var4_1                                 False\n",
       "Var4_2                                 False\n",
       "Var4_3                                 False\n",
       "Var4_4                                 False\n",
       "Var4_5                                 False\n",
       "Var4_6                                 False\n",
       "Var4_7                                 False\n",
       "EMI_Loan_Submitted_Missing_False       False\n",
       "EMI_Loan_Submitted_Missing_True        False\n",
       "Interest_Rate_Missing_False            False\n",
       "Interest_Rate_Missing_True             False\n",
       "Loan_Amount_Submitted_Missing_False    False\n",
       "Loan_Amount_Submitted_Missing_True     False\n",
       "Loan_Tenure_Submitted_Missing_False    False\n",
       "Loan_Tenure_Submitted_Missing_True     False\n",
       "Processing_Fee_Missing_False           False\n",
       "Processing_Fee_Missing_True            False\n",
       "Length: 82, dtype: bool"
      ]
     },
     "execution_count": 189,
     "metadata": {},
     "output_type": "execute_result"
    }
   ],
   "source": [
    "df.isnull().any()"
   ]
  },
  {
   "cell_type": "code",
   "execution_count": 193,
   "metadata": {
    "collapsed": true
   },
   "outputs": [],
   "source": [
    "non_categorical=['Existing_EMI','Monthly_Income','Age']"
   ]
  },
  {
   "cell_type": "code",
   "execution_count": 194,
   "metadata": {
    "collapsed": false
   },
   "outputs": [
    {
     "data": {
      "text/plain": [
       "Index([u'Device_Type', u'Disbursed', u'Existing_EMI', u'Filled_Form',\n",
       "       u'Gender', u'Loan_Amount_Applied', u'Loan_Tenure_Applied',\n",
       "       u'Mobile_Verified', u'Monthly_Income', u'Var1', u'Var2', u'Var4',\n",
       "       u'Var5', u'Age', u'EMI_Loan_Submitted_Missing',\n",
       "       u'Interest_Rate_Missing', u'Loan_Amount_Submitted_Missing',\n",
       "       u'Loan_Tenure_Submitted_Missing', u'Processing_Fee_Missing'],\n",
       "      dtype='object')"
      ]
     },
     "execution_count": 194,
     "metadata": {},
     "output_type": "execute_result"
    }
   ],
   "source": [
    "total_data.columns"
   ]
  },
  {
   "cell_type": "code",
   "execution_count": 195,
   "metadata": {
    "collapsed": false
   },
   "outputs": [],
   "source": [
    "df=pd.concat([df,total_data[non_categorical]],axis=1)"
   ]
  },
  {
   "cell_type": "code",
   "execution_count": 196,
   "metadata": {
    "collapsed": false
   },
   "outputs": [
    {
     "data": {
      "text/plain": [
       "85"
      ]
     },
     "execution_count": 196,
     "metadata": {},
     "output_type": "execute_result"
    }
   ],
   "source": [
    "len(df.columns)"
   ]
  },
  {
   "cell_type": "code",
   "execution_count": 198,
   "metadata": {
    "collapsed": false
   },
   "outputs": [
    {
     "data": {
      "text/plain": [
       "Index([u'Device_Type_Mobile', u'Device_Type_Web-browser', u'Filled_Form_N',\n",
       "       u'Filled_Form_Y', u'Gender_Female', u'Gender_Male',\n",
       "       u'Loan_Tenure_Applied_0.0', u'Loan_Tenure_Applied_1.0',\n",
       "       u'Loan_Tenure_Applied_2.0', u'Loan_Tenure_Applied_3.0',\n",
       "       u'Loan_Tenure_Applied_4.0', u'Loan_Tenure_Applied_5.0',\n",
       "       u'Loan_Tenure_Applied_6.0', u'Loan_Tenure_Applied_7.0',\n",
       "       u'Loan_Tenure_Applied_8.0', u'Loan_Tenure_Applied_9.0',\n",
       "       u'Loan_Tenure_Applied_10.0', u'Mobile_Verified_N', u'Mobile_Verified_Y',\n",
       "       u'Var1_HAVC', u'Var1_HAXA', u'Var1_HAXB', u'Var1_HAXC', u'Var1_HAXF',\n",
       "       u'Var1_HAXM', u'Var1_HAYT', u'Var1_HAZD', u'Var1_HBXA', u'Var1_HBXB',\n",
       "       u'Var1_HBXC', u'Var1_HBXD', u'Var1_HBXH', u'Var1_HBXX', u'Var1_HCXD',\n",
       "       u'Var1_HCXF', u'Var1_HCXG', u'Var1_HCYS', u'Var1_HVYS', u'Var2_A',\n",
       "       u'Var2_B', u'Var2_C', u'Var2_D', u'Var2_E', u'Var2_F', u'Var2_G',\n",
       "       u'Var5_0', u'Var5_1', u'Var5_2', u'Var5_3', u'Var5_4', u'Var5_5',\n",
       "       u'Var5_6', u'Var5_7', u'Var5_8', u'Var5_9', u'Var5_10', u'Var5_11',\n",
       "       u'Var5_12', u'Var5_13', u'Var5_14', u'Var5_15', u'Var5_16', u'Var5_17',\n",
       "       u'Var5_18', u'Var4_0', u'Var4_1', u'Var4_2', u'Var4_3', u'Var4_4',\n",
       "       u'Var4_5', u'Var4_6', u'Var4_7', u'EMI_Loan_Submitted_Missing_False',\n",
       "       u'EMI_Loan_Submitted_Missing_True', u'Interest_Rate_Missing_False',\n",
       "       u'Interest_Rate_Missing_True', u'Loan_Amount_Submitted_Missing_False',\n",
       "       u'Loan_Amount_Submitted_Missing_True',\n",
       "       u'Loan_Tenure_Submitted_Missing_False',\n",
       "       u'Loan_Tenure_Submitted_Missing_True', u'Processing_Fee_Missing_False',\n",
       "       u'Processing_Fee_Missing_True', u'Existing_EMI', u'Monthly_Income',\n",
       "       u'Age'],\n",
       "      dtype='object')"
      ]
     },
     "execution_count": 198,
     "metadata": {},
     "output_type": "execute_result"
    }
   ],
   "source": [
    "df.columns"
   ]
  },
  {
   "cell_type": "code",
   "execution_count": 197,
   "metadata": {
    "collapsed": false
   },
   "outputs": [
    {
     "data": {
      "text/html": [
       "<div>\n",
       "<style>\n",
       "    .dataframe thead tr:only-child th {\n",
       "        text-align: right;\n",
       "    }\n",
       "\n",
       "    .dataframe thead th {\n",
       "        text-align: left;\n",
       "    }\n",
       "\n",
       "    .dataframe tbody tr th {\n",
       "        vertical-align: top;\n",
       "    }\n",
       "</style>\n",
       "<table border=\"1\" class=\"dataframe\">\n",
       "  <thead>\n",
       "    <tr style=\"text-align: right;\">\n",
       "      <th></th>\n",
       "      <th>Device_Type_Mobile</th>\n",
       "      <th>Device_Type_Web-browser</th>\n",
       "      <th>Filled_Form_N</th>\n",
       "      <th>Filled_Form_Y</th>\n",
       "      <th>Gender_Female</th>\n",
       "      <th>Gender_Male</th>\n",
       "      <th>Loan_Tenure_Applied_0.0</th>\n",
       "      <th>Loan_Tenure_Applied_1.0</th>\n",
       "      <th>Loan_Tenure_Applied_2.0</th>\n",
       "      <th>Loan_Tenure_Applied_3.0</th>\n",
       "      <th>...</th>\n",
       "      <th>Interest_Rate_Missing_True</th>\n",
       "      <th>Loan_Amount_Submitted_Missing_False</th>\n",
       "      <th>Loan_Amount_Submitted_Missing_True</th>\n",
       "      <th>Loan_Tenure_Submitted_Missing_False</th>\n",
       "      <th>Loan_Tenure_Submitted_Missing_True</th>\n",
       "      <th>Processing_Fee_Missing_False</th>\n",
       "      <th>Processing_Fee_Missing_True</th>\n",
       "      <th>Existing_EMI</th>\n",
       "      <th>Monthly_Income</th>\n",
       "      <th>Age</th>\n",
       "    </tr>\n",
       "  </thead>\n",
       "  <tbody>\n",
       "    <tr>\n",
       "      <th>0</th>\n",
       "      <td>0</td>\n",
       "      <td>1</td>\n",
       "      <td>1</td>\n",
       "      <td>0</td>\n",
       "      <td>1</td>\n",
       "      <td>0</td>\n",
       "      <td>0</td>\n",
       "      <td>0</td>\n",
       "      <td>0</td>\n",
       "      <td>0</td>\n",
       "      <td>...</td>\n",
       "      <td>1</td>\n",
       "      <td>0</td>\n",
       "      <td>1</td>\n",
       "      <td>0</td>\n",
       "      <td>1</td>\n",
       "      <td>0</td>\n",
       "      <td>1</td>\n",
       "      <td>0.0</td>\n",
       "      <td>20000</td>\n",
       "      <td>39</td>\n",
       "    </tr>\n",
       "    <tr>\n",
       "      <th>1</th>\n",
       "      <td>0</td>\n",
       "      <td>1</td>\n",
       "      <td>1</td>\n",
       "      <td>0</td>\n",
       "      <td>0</td>\n",
       "      <td>1</td>\n",
       "      <td>0</td>\n",
       "      <td>0</td>\n",
       "      <td>1</td>\n",
       "      <td>0</td>\n",
       "      <td>...</td>\n",
       "      <td>0</td>\n",
       "      <td>1</td>\n",
       "      <td>0</td>\n",
       "      <td>1</td>\n",
       "      <td>0</td>\n",
       "      <td>0</td>\n",
       "      <td>1</td>\n",
       "      <td>0.0</td>\n",
       "      <td>35000</td>\n",
       "      <td>32</td>\n",
       "    </tr>\n",
       "    <tr>\n",
       "      <th>2</th>\n",
       "      <td>0</td>\n",
       "      <td>1</td>\n",
       "      <td>1</td>\n",
       "      <td>0</td>\n",
       "      <td>0</td>\n",
       "      <td>1</td>\n",
       "      <td>0</td>\n",
       "      <td>0</td>\n",
       "      <td>0</td>\n",
       "      <td>0</td>\n",
       "      <td>...</td>\n",
       "      <td>1</td>\n",
       "      <td>1</td>\n",
       "      <td>0</td>\n",
       "      <td>1</td>\n",
       "      <td>0</td>\n",
       "      <td>0</td>\n",
       "      <td>1</td>\n",
       "      <td>0.0</td>\n",
       "      <td>22500</td>\n",
       "      <td>36</td>\n",
       "    </tr>\n",
       "    <tr>\n",
       "      <th>3</th>\n",
       "      <td>0</td>\n",
       "      <td>1</td>\n",
       "      <td>1</td>\n",
       "      <td>0</td>\n",
       "      <td>0</td>\n",
       "      <td>1</td>\n",
       "      <td>0</td>\n",
       "      <td>0</td>\n",
       "      <td>0</td>\n",
       "      <td>0</td>\n",
       "      <td>...</td>\n",
       "      <td>1</td>\n",
       "      <td>1</td>\n",
       "      <td>0</td>\n",
       "      <td>1</td>\n",
       "      <td>0</td>\n",
       "      <td>0</td>\n",
       "      <td>1</td>\n",
       "      <td>0.0</td>\n",
       "      <td>35000</td>\n",
       "      <td>30</td>\n",
       "    </tr>\n",
       "    <tr>\n",
       "      <th>4</th>\n",
       "      <td>0</td>\n",
       "      <td>1</td>\n",
       "      <td>1</td>\n",
       "      <td>0</td>\n",
       "      <td>0</td>\n",
       "      <td>1</td>\n",
       "      <td>0</td>\n",
       "      <td>0</td>\n",
       "      <td>1</td>\n",
       "      <td>0</td>\n",
       "      <td>...</td>\n",
       "      <td>1</td>\n",
       "      <td>1</td>\n",
       "      <td>0</td>\n",
       "      <td>1</td>\n",
       "      <td>0</td>\n",
       "      <td>0</td>\n",
       "      <td>1</td>\n",
       "      <td>25000.0</td>\n",
       "      <td>100000</td>\n",
       "      <td>33</td>\n",
       "    </tr>\n",
       "  </tbody>\n",
       "</table>\n",
       "<p>5 rows × 85 columns</p>\n",
       "</div>"
      ],
      "text/plain": [
       "   Device_Type_Mobile  Device_Type_Web-browser  Filled_Form_N  Filled_Form_Y  \\\n",
       "0                   0                        1              1              0   \n",
       "1                   0                        1              1              0   \n",
       "2                   0                        1              1              0   \n",
       "3                   0                        1              1              0   \n",
       "4                   0                        1              1              0   \n",
       "\n",
       "   Gender_Female  Gender_Male  Loan_Tenure_Applied_0.0  \\\n",
       "0              1            0                        0   \n",
       "1              0            1                        0   \n",
       "2              0            1                        0   \n",
       "3              0            1                        0   \n",
       "4              0            1                        0   \n",
       "\n",
       "   Loan_Tenure_Applied_1.0  Loan_Tenure_Applied_2.0  Loan_Tenure_Applied_3.0  \\\n",
       "0                        0                        0                        0   \n",
       "1                        0                        1                        0   \n",
       "2                        0                        0                        0   \n",
       "3                        0                        0                        0   \n",
       "4                        0                        1                        0   \n",
       "\n",
       "  ...   Interest_Rate_Missing_True  Loan_Amount_Submitted_Missing_False  \\\n",
       "0 ...                            1                                    0   \n",
       "1 ...                            0                                    1   \n",
       "2 ...                            1                                    1   \n",
       "3 ...                            1                                    1   \n",
       "4 ...                            1                                    1   \n",
       "\n",
       "   Loan_Amount_Submitted_Missing_True  Loan_Tenure_Submitted_Missing_False  \\\n",
       "0                                   1                                    0   \n",
       "1                                   0                                    1   \n",
       "2                                   0                                    1   \n",
       "3                                   0                                    1   \n",
       "4                                   0                                    1   \n",
       "\n",
       "   Loan_Tenure_Submitted_Missing_True  Processing_Fee_Missing_False  \\\n",
       "0                                   1                             0   \n",
       "1                                   0                             0   \n",
       "2                                   0                             0   \n",
       "3                                   0                             0   \n",
       "4                                   0                             0   \n",
       "\n",
       "   Processing_Fee_Missing_True  Existing_EMI  Monthly_Income  Age  \n",
       "0                            1           0.0           20000   39  \n",
       "1                            1           0.0           35000   32  \n",
       "2                            1           0.0           22500   36  \n",
       "3                            1           0.0           35000   30  \n",
       "4                            1       25000.0          100000   33  \n",
       "\n",
       "[5 rows x 85 columns]"
      ]
     },
     "execution_count": 197,
     "metadata": {},
     "output_type": "execute_result"
    }
   ],
   "source": [
    "df.head()"
   ]
  },
  {
   "cell_type": "code",
   "execution_count": 199,
   "metadata": {
    "collapsed": true
   },
   "outputs": [],
   "source": [
    "# applying xgboost and tuning\n",
    "ntrain=df.iloc[:87020,:]\n",
    "ntest=df.iloc[87020:,:]"
   ]
  },
  {
   "cell_type": "code",
   "execution_count": 200,
   "metadata": {
    "collapsed": true
   },
   "outputs": [],
   "source": [
    "ntrain=pd.concat([ntrain,train['Disbursed']],axis=1)"
   ]
  },
  {
   "cell_type": "code",
   "execution_count": 201,
   "metadata": {
    "collapsed": false
   },
   "outputs": [
    {
     "name": "stderr",
     "output_type": "stream",
     "text": [
      "/home/roop/anaconda2/lib/python2.7/site-packages/sklearn/grid_search.py:43: DeprecationWarning: This module was deprecated in version 0.18 in favor of the model_selection module into which all the refactored classes and functions are moved. This module will be removed in 0.20.\n",
      "  DeprecationWarning)\n"
     ]
    }
   ],
   "source": [
    "from xgboost.sklearn import XGBClassifier\n",
    "from sklearn import cross_validation, metrics   #Additional scklearn functions\n",
    "from sklearn.grid_search import GridSearchCV   #Perforing grid search\n",
    "import matplotlib.pylab as plt\n",
    "%matplotlib inline\n",
    "from matplotlib.pylab import rcParams\n",
    "rcParams['figure.figsize'] = 12, 4\n",
    "\n",
    "target = 'Disbursed'\n"
   ]
  },
  {
   "cell_type": "code",
   "execution_count": 205,
   "metadata": {
    "collapsed": true
   },
   "outputs": [],
   "source": [
    "def modelfit(alg, dtrain, predictors,useTrainCV=True, cv_folds=5, early_stopping_rounds=50):\n",
    "    \n",
    "    if useTrainCV:\n",
    "        xgb_param = alg.get_xgb_params()\n",
    "        xgtrain = xgb.DMatrix(dtrain[predictors].values, label=dtrain[target].values)\n",
    "        cvresult = xgb.cv(xgb_param, xgtrain, num_boost_round=alg.get_params()['n_estimators'], nfold=cv_folds,\n",
    "            metrics='auc', early_stopping_rounds=early_stopping_rounds)\n",
    "        alg.set_params(n_estimators=cvresult.shape[0])\n",
    "    \n",
    "    #Fit the algorithm on the data\n",
    "    alg.fit(dtrain[predictors], dtrain['Disbursed'],eval_metric='auc')\n",
    "        \n",
    "    #Predict training set:\n",
    "    dtrain_predictions = alg.predict(dtrain[predictors])\n",
    "    dtrain_predprob = alg.predict_proba(dtrain[predictors])[:,1]\n",
    "        \n",
    "    #Print model report:\n",
    "    print \"\\nModel Report\"\n",
    "    print \"Accuracy : %.4g\" % metrics.accuracy_score(dtrain['Disbursed'].values, dtrain_predictions)\n",
    "    print \"AUC Score (Train): %f\" % metrics.roc_auc_score(dtrain['Disbursed'], dtrain_predprob)\n",
    "                    \n",
    "    feat_imp = pd.Series(alg.booster().get_fscore()).sort_values(ascending=False)\n",
    "    feat_imp.plot(kind='bar', title='Feature Importances')\n",
    "    plt.ylabel('Feature Importance Score')"
   ]
  },
  {
   "cell_type": "code",
   "execution_count": 206,
   "metadata": {
    "collapsed": false
   },
   "outputs": [
    {
     "name": "stdout",
     "output_type": "stream",
     "text": [
      "\n",
      "Model Report\n",
      "Accuracy : 0.9854\n",
      "AUC Score (Train): 0.891835\n"
     ]
    },
    {
     "data": {
      "image/png": "[encoded data removed]",
      "text/plain": [
       "<matplotlib.figure.Figure at 0x7fcbb3c3efd0>"
      ]
     },
     "metadata": {},
     "output_type": "display_data"
    }
   ],
   "source": [
    "predictors = [x for x in ntrain.columns if x not in [target]]\n",
    "xgb1 = XGBClassifier(\n",
    " learning_rate =0.1,\n",
    " n_estimators=1000,\n",
    " max_depth=5,\n",
    " min_child_weight=1,\n",
    " gamma=0,\n",
    " subsample=0.8,\n",
    " colsample_bytree=0.8,\n",
    " objective= 'binary:logistic',\n",
    " nthread=4,\n",
    " scale_pos_weight=1,\n",
    " seed=27)\n",
    "modelfit(xgb1, ntrain, predictors)"
   ]
  },
  {
   "cell_type": "code",
   "execution_count": 208,
   "metadata": {
    "collapsed": false
   },
   "outputs": [
    {
     "data": {
      "text/plain": [
       "([mean: 0.82793, std: 0.01397, params: {'max_depth': 3, 'min_child_weight': 1},\n",
       "  mean: 0.82842, std: 0.01433, params: {'max_depth': 3, 'min_child_weight': 3},\n",
       "  mean: 0.82726, std: 0.01387, params: {'max_depth': 3, 'min_child_weight': 5},\n",
       "  mean: 0.83111, std: 0.01209, params: {'max_depth': 5, 'min_child_weight': 1},\n",
       "  mean: 0.83041, std: 0.01216, params: {'max_depth': 5, 'min_child_weight': 3},\n",
       "  mean: 0.83049, std: 0.01224, params: {'max_depth': 5, 'min_child_weight': 5},\n",
       "  mean: 0.82750, std: 0.01016, params: {'max_depth': 7, 'min_child_weight': 1},\n",
       "  mean: 0.82968, std: 0.01022, params: {'max_depth': 7, 'min_child_weight': 3},\n",
       "  mean: 0.82856, std: 0.01187, params: {'max_depth': 7, 'min_child_weight': 5},\n",
       "  mean: 0.82267, std: 0.01183, params: {'max_depth': 9, 'min_child_weight': 1},\n",
       "  mean: 0.82351, std: 0.01150, params: {'max_depth': 9, 'min_child_weight': 3},\n",
       "  mean: 0.82373, std: 0.01370, params: {'max_depth': 9, 'min_child_weight': 5}],\n",
       " {'max_depth': 5, 'min_child_weight': 1},\n",
       " 0.8311066065890588)"
      ]
     },
     "execution_count": 208,
     "metadata": {},
     "output_type": "execute_result"
    }
   ],
   "source": [
    "# for 140 n-estimators\n",
    "param_test1 = {\n",
    " 'max_depth':range(3,10,2),\n",
    " 'min_child_weight':range(1,6,2)\n",
    "}\n",
    "gsearch1 = GridSearchCV(estimator = XGBClassifier( learning_rate =0.1, n_estimators=140, max_depth=5,\n",
    "min_child_weight=1, gamma=0, subsample=0.8, colsample_bytree=0.8,\n",
    "objective= 'binary:logistic', nthread=4, scale_pos_weight=1, seed=27), \n",
    "param_grid = param_test1, scoring='roc_auc',n_jobs=4,iid=False, cv=5)\n",
    "gsearch1.fit(ntrain[predictors],ntrain[target])\n",
    "gsearch1.grid_scores_, gsearch1.best_params_, gsearch1.best_score_"
   ]
  },
  {
   "cell_type": "code",
   "execution_count": 209,
   "metadata": {
    "collapsed": false
   },
   "outputs": [
    {
     "data": {
      "text/plain": [
       "([mean: 0.83053, std: 0.01330, params: {'gamma': 0.0},\n",
       "  mean: 0.82973, std: 0.01328, params: {'gamma': 0.1},\n",
       "  mean: 0.83094, std: 0.01286, params: {'gamma': 0.2},\n",
       "  mean: 0.83015, std: 0.01379, params: {'gamma': 0.3},\n",
       "  mean: 0.83019, std: 0.01325, params: {'gamma': 0.4}],\n",
       " {'gamma': 0.2},\n",
       " 0.8309412401263101)"
      ]
     },
     "execution_count": 209,
     "metadata": {},
     "output_type": "execute_result"
    }
   ],
   "source": [
    "# tune gamma\n",
    "param_test3 = {\n",
    " 'gamma':[i/10.0 for i in range(0,5)]\n",
    "}\n",
    "gsearch3 = GridSearchCV(estimator = XGBClassifier( learning_rate =0.1, n_estimators=140, max_depth=5,\n",
    " min_child_weight=1, subsample=0.8, colsample_bytree=0.8,\n",
    " objective= 'binary:logistic', nthread=4, scale_pos_weight=1,seed=27), \n",
    " param_grid = param_test3, scoring='roc_auc',n_jobs=4,iid=False, cv=5)\n",
    "gsearch3.fit(ntrain[predictors],ntrain[target])\n",
    "gsearch3.grid_scores_, gsearch3.best_params_, gsearch3.best_score_"
   ]
  },
  {
   "cell_type": "code",
   "execution_count": 211,
   "metadata": {
    "collapsed": false
   },
   "outputs": [
    {
     "data": {
      "text/plain": [
       "([mean: 0.83033, std: 0.01262, params: {'subsample': 0.6, 'colsample_bytree': 0.6},\n",
       "  mean: 0.83295, std: 0.01227, params: {'subsample': 0.7, 'colsample_bytree': 0.6},\n",
       "  mean: 0.83291, std: 0.01167, params: {'subsample': 0.8, 'colsample_bytree': 0.6},\n",
       "  mean: 0.83236, std: 0.01356, params: {'subsample': 0.9, 'colsample_bytree': 0.6},\n",
       "  mean: 0.83034, std: 0.01146, params: {'subsample': 0.6, 'colsample_bytree': 0.7},\n",
       "  mean: 0.83128, std: 0.01204, params: {'subsample': 0.7, 'colsample_bytree': 0.7},\n",
       "  mean: 0.83206, std: 0.01241, params: {'subsample': 0.8, 'colsample_bytree': 0.7},\n",
       "  mean: 0.83030, std: 0.01251, params: {'subsample': 0.9, 'colsample_bytree': 0.7},\n",
       "  mean: 0.82995, std: 0.01217, params: {'subsample': 0.6, 'colsample_bytree': 0.8},\n",
       "  mean: 0.82925, std: 0.01236, params: {'subsample': 0.7, 'colsample_bytree': 0.8},\n",
       "  mean: 0.83091, std: 0.01177, params: {'subsample': 0.8, 'colsample_bytree': 0.8},\n",
       "  mean: 0.83070, std: 0.01157, params: {'subsample': 0.9, 'colsample_bytree': 0.8},\n",
       "  mean: 0.82698, std: 0.01135, params: {'subsample': 0.6, 'colsample_bytree': 0.9},\n",
       "  mean: 0.82955, std: 0.01137, params: {'subsample': 0.7, 'colsample_bytree': 0.9},\n",
       "  mean: 0.83103, std: 0.01154, params: {'subsample': 0.8, 'colsample_bytree': 0.9},\n",
       "  mean: 0.83202, std: 0.01156, params: {'subsample': 0.9, 'colsample_bytree': 0.9}],\n",
       " {'colsample_bytree': 0.6, 'subsample': 0.7},\n",
       " 0.832950960018578)"
      ]
     },
     "execution_count": 211,
     "metadata": {},
     "output_type": "execute_result"
    }
   ],
   "source": [
    "#tune subsample and colsample_bytree\n",
    "param_test4 = {\n",
    " 'subsample':[i/10.0 for i in range(6,10)],\n",
    " 'colsample_bytree':[i/10.0 for i in range(6,10)]\n",
    "}\n",
    "gsearch4 = GridSearchCV(estimator = XGBClassifier( learning_rate =0.1, n_estimators=140, max_depth=5,\n",
    " min_child_weight=1, gamma=0.2, subsample=0.8, colsample_bytree=0.8,\n",
    " objective= 'binary:logistic', nthread=4, scale_pos_weight=1,seed=27), \n",
    " param_grid = param_test4, scoring='roc_auc',n_jobs=4,iid=False, cv=5)\n",
    "gsearch4.fit(ntrain[predictors],ntrain[target])\n",
    "gsearch4.grid_scores_, gsearch4.best_params_, gsearch4.best_score_"
   ]
  },
  {
   "cell_type": "code",
   "execution_count": 212,
   "metadata": {
    "collapsed": false
   },
   "outputs": [
    {
     "data": {
      "text/plain": [
       "([mean: 0.83298, std: 0.01257, params: {'reg_alpha': 0},\n",
       "  mean: 0.83311, std: 0.01231, params: {'reg_alpha': 0.001},\n",
       "  mean: 0.83244, std: 0.01257, params: {'reg_alpha': 0.005},\n",
       "  mean: 0.83245, std: 0.01300, params: {'reg_alpha': 0.01},\n",
       "  mean: 0.83215, std: 0.01304, params: {'reg_alpha': 0.05}],\n",
       " {'reg_alpha': 0.001},\n",
       " 0.833114979348856)"
      ]
     },
     "execution_count": 212,
     "metadata": {},
     "output_type": "execute_result"
    }
   ],
   "source": [
    "param_test6 = {\n",
    " 'reg_alpha':[0, 0.001, 0.005, 0.01, 0.05]\n",
    "}\n",
    "gsearch6 = GridSearchCV(estimator = XGBClassifier( learning_rate =0.1, n_estimators=140, max_depth=5,\n",
    " min_child_weight=1, gamma=0.2, subsample=0.7, colsample_bytree=0.6,\n",
    " objective= 'binary:logistic', nthread=4, scale_pos_weight=1,seed=27), \n",
    " param_grid = param_test6, scoring='roc_auc',n_jobs=4,iid=False, cv=5)\n",
    "gsearch6.fit(ntrain[predictors],ntrain[target])\n",
    "gsearch6.grid_scores_, gsearch6.best_params_, gsearch6.best_score_"
   ]
  },
  {
   "cell_type": "code",
   "execution_count": 213,
   "metadata": {
    "collapsed": false
   },
   "outputs": [
    {
     "name": "stdout",
     "output_type": "stream",
     "text": [
      "\n",
      "Model Report\n",
      "Accuracy : 0.9854\n",
      "AUC Score (Train): 0.895105\n"
     ]
    },
    {
     "data": {
      "image/png": "[encoded data removed]",
      "text/plain": [
       "<matplotlib.figure.Figure at 0x7fcbb4e36290>"
      ]
     },
     "metadata": {},
     "output_type": "display_data"
    }
   ],
   "source": [
    "xgb4 = XGBClassifier(\n",
    " learning_rate =0.01,\n",
    " n_estimators=5000,\n",
    " max_depth=5,\n",
    " min_child_weight=1,\n",
    " gamma=0.2,\n",
    " subsample=0.7,\n",
    " colsample_bytree=0.6,\n",
    " reg_alpha=0.001,\n",
    " objective= 'binary:logistic',\n",
    " nthread=4,\n",
    " scale_pos_weight=1,\n",
    " seed=27)\n",
    "modelfit(xgb4, ntrain, predictors)"
   ]
  },
  {
   "cell_type": "code",
   "execution_count": 222,
   "metadata": {
    "collapsed": false
   },
   "outputs": [
    {
     "name": "stdout",
     "output_type": "stream",
     "text": [
      "\n",
      "Model Report\n",
      "Accuracy : 0.9854\n",
      "AUC Score (Train): 0.798385\n"
     ]
    },
    {
     "data": {
      "image/png": "[encoded data removed]",
      "text/plain": [
       "<matplotlib.figure.Figure at 0x7fcbb4efcf50>"
      ]
     },
     "metadata": {},
     "output_type": "display_data"
    }
   ],
   "source": [
    "xgb4 = XGBClassifier(\n",
    " learning_rate =0.01,\n",
    " n_estimators=1000,\n",
    " max_depth=5,\n",
    " min_child_weight=1,\n",
    " gamma=0.2,\n",
    " subsample=0.7,\n",
    " colsample_bytree=0.6,\n",
    " reg_alpha=0.001,\n",
    " objective= 'binary:logistic',\n",
    " nthread=4,\n",
    " scale_pos_weight=1,\n",
    " seed=27)\n",
    "modelfit(xgb4, ntrain, ['Monthly_Income','Age','Existing_EMI'])"
   ]
  },
  {
   "cell_type": "code",
   "execution_count": null,
   "metadata": {
    "collapsed": true
   },
   "outputs": [],
   "source": []
  }
 ],
 "metadata": {
  "kernelspec": {
   "display_name": "Python 2",
   "language": "python",
   "name": "python2"
  },
  "language_info": {
   "codemirror_mode": {
    "name": "ipython",
    "version": 2
   },
   "file_extension": ".py",
   "mimetype": "text/x-python",
   "name": "python",
   "nbconvert_exporter": "python",
   "pygments_lexer": "ipython2",
   "version": "2.7.13"
  }
 },
 "nbformat": 4,
 "nbformat_minor": 2
}
